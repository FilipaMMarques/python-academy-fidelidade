{
 "cells": [
  {
   "cell_type": "markdown",
   "id": "6dc536ad-6d73-4049-a245-a8736190ac02",
   "metadata": {},
   "source": [
    "# Session 3 - Exercises"
   ]
  },
  {
   "cell_type": "markdown",
   "id": "fef98309-b711-423c-b526-1c47033112cd",
   "metadata": {},
   "source": [
    "## Exercise 1 - `open` all things\n",
    "\n",
    "1. Get the type of file `f`. Is this something we case use to get the contents directly?\n",
    "1. Call `f.read()` once. What do you get as a result?\n",
    "1. Call `f.read()` again. What do you get as a result? Were you expecting this?!\n",
    "1. Try reading with `f.readlines()` instead. What differs from the result in step \\#2? "
   ]
  },
  {
   "cell_type": "code",
   "execution_count": 7,
   "id": "7e1a875c-888b-41bd-a084-81021f97deef",
   "metadata": {},
   "outputs": [],
   "source": [
    "# uncomment this\n",
    "# f = open('data/spotify_2.csv', 'r')"
   ]
  },
  {
   "cell_type": "code",
   "execution_count": null,
   "id": "8e938dc7-9fc5-48b3-9d56-f9c52b9bcdfe",
   "metadata": {},
   "outputs": [],
   "source": [
    "### BEGIN SOLUTION"
   ]
  },
  {
   "attachments": {},
   "cell_type": "markdown",
   "id": "f3487b25-e4a2-435b-9bbd-0f65a96994a9",
   "metadata": {},
   "source": [
    "### Exercise 2 - `open_file` function\n",
    "\n",
    "As we've seen, the way we open files in python built-in functions is pretty much standardized: we open the file, read its contents into a list of lines, and close the file afterwards. In the \"Functions\" unit, we saw that each code that is reusable for the future should be encapsulated in the future. So, try to:\n",
    "  1. Define the `open_file` function\n",
    "  2. The function should receive a file path as an argument and return a list of strings as content\n",
    "  3. Make sure you *automatically* close the file after usage\n",
    "  4. Bonus. Add the encoding and access mode (used in `open()`) as optional parameters of `open_file`"
   ]
  },
  {
   "cell_type": "code",
   "execution_count": null,
   "id": "c3f55996",
   "metadata": {},
   "outputs": [],
   "source": [
    "### BEGIN SOLUTION"
   ]
  },
  {
   "attachments": {},
   "cell_type": "markdown",
   "id": "d379fb40-b5ca-457d-a0be-efc84dc19152",
   "metadata": {},
   "source": [
    "## Assessment - Data Pre-processing\n",
    "\n",
    "Based on our SportsDB database, calculate the following new columns:\n",
    "- Split the NAME column into FIRST_NAME and LAST_NAME columns\n",
    "- Calculate a boolean column if a player plays in multiple positions (e.g. C is False, but SF/SG is True)\n",
    "- Calculate a PHYSICAL STATS column that sums SPEED and STRENGTH\n",
    "- Bonus: Calculate each player's age"
   ]
  },
  {
   "attachments": {},
   "cell_type": "markdown",
   "id": "437b194d-ff1d-4fcd-a2b4-7f8b7c430f2b",
   "metadata": {},
   "source": [
    "## Session 2 - Databases\n",
    "\n",
    "*Make sure you run the Learning Notebook 03-databases first to guarantee the SportsDb database is created.*\n",
    "\n",
    "Using `pandas` and `sqlite3`, perform the following Data Analysis in our dataset:\n",
    "- What is the strongest player? What about the fastest?\n",
    "- Get the retired players born outside the USA\n",
    "- What is the average speed and strength?\n",
    "- What is the max speed and strength per RETIRED status?\n",
    "- Add the `new_players` DataFrame (code below) to our Database. Do not override the data we already have. Check insert operation was correct."
   ]
  },
  {
   "cell_type": "code",
   "execution_count": 35,
   "id": "ef5c9015-756b-4d71-9122-a9d8df86e701",
   "metadata": {},
   "outputs": [],
   "source": [
    "# new players dataframe\n",
    "new_players = pd.DataFrame.from_dict(\n",
    "    {'NAME': ['Tony Parker'],\n",
    "     'DOB': ['17-05-1982'],\n",
    "     'NATIONALITY': ['FRA'],\n",
    "     'POSITION': ['PG'],\n",
    "     'SPEED': [99],\n",
    "     'STRENGTH': [50],\n",
    "     'RETIRED': [1]}\n",
    ")"
   ]
  },
  {
   "cell_type": "code",
   "execution_count": null,
   "id": "53a7fd00-5149-4812-a8a4-7758565fa4da",
   "metadata": {},
   "outputs": [],
   "source": [
    "### BEGIN SOLUTION"
   ]
  }
 ],
 "metadata": {
  "kernelspec": {
   "display_name": "Python 3 (ipykernel)",
   "language": "python",
   "name": "python3"
  },
  "language_info": {
   "codemirror_mode": {
    "name": "ipython",
    "version": 3
   },
   "file_extension": ".py",
   "mimetype": "text/x-python",
   "name": "python",
   "nbconvert_exporter": "python",
   "pygments_lexer": "ipython3",
   "version": "3.8.5"
  }
 },
 "nbformat": 4,
 "nbformat_minor": 5
}
