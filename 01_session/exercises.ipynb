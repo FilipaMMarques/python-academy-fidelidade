{
 "cells": [
  {
   "cell_type": "markdown",
   "metadata": {},
   "source": [
    "# Exercises\n",
    "\n",
    "\n",
    "## General Python\n",
    "\n",
    "Let's build a simple **form application**. Your task will be to **ask the users some information**, **store it** in variables, perform **simple operations** and **display a user report** in the end. The form must:\n",
    "  1. Ask for the user's name, weirdest habit, favourite hobbie and best quality;\n",
    "  2. Store the informations in variables, which are easily readable;\n",
    "  3. Display a profile report about the user."
   ]
  },
  {
   "cell_type": "code",
   "execution_count": 1,
   "metadata": {},
   "outputs": [],
   "source": [
    "### BUILD YOUR APP HERE"
   ]
  },
  {
   "attachments": {},
   "cell_type": "markdown",
   "metadata": {},
   "source": [
    "## Choosing Data Types\n",
    "\n",
    "For the following variables, assign the most appropriate data type:\n",
    "\n",
    "  1. A cat's name;\n",
    "  2. Personality traits of your colleague;\n",
    "  3. Conversion rate mile to kilometer;\n",
    "  4. Translation between spanish and english, word by word (like in the old-time Google Translate);\n",
    "  5. Number of olympic swimming pools in the world"
   ]
  },
  {
   "cell_type": "code",
   "execution_count": 2,
   "metadata": {},
   "outputs": [],
   "source": [
    "### ASSIGN DATA TYPES HERE\n",
    "# Cat's name -\n",
    "# Personality traits -\n",
    "# Conversion rate km/mile -\n",
    "# Translation es/en -\n",
    "# Swimming pools -"
   ]
  },
  {
   "cell_type": "markdown",
   "metadata": {},
   "source": [
    "\n",
    "## Googling Skills\n",
    "\n",
    "Search what is the Pythonic way to\n",
    "- Get the number of items in a dict, set, tuple and list\n",
    "- Check if an element exists in a dict, set, tuple or list\n",
    "- Change the value of a specific element in a list (e.g. 2nd item) \n",
    "- Reverse the items in a list"
   ]
  },
  {
   "cell_type": "code",
   "execution_count": 3,
   "metadata": {
    "slideshow": {
     "slide_type": "slide"
    },
    "tags": []
   },
   "outputs": [],
   "source": [
    "### SOLUTION\n",
    "# number of items -\n",
    "# element exists -\n",
    "# change value - \n",
    "# reverse items - "
   ]
  },
  {
   "cell_type": "code",
   "execution_count": null,
   "metadata": {},
   "outputs": [],
   "source": []
  },
  {
   "cell_type": "markdown",
   "metadata": {},
   "source": [
    "## Iteration Flow"
   ]
  },
  {
   "attachments": {},
   "cell_type": "markdown",
   "metadata": {},
   "source": [
    "### Exercise 1 - Choice Master\n",
    "\n",
    "**(NO CODE)** Choose the most appropriate flow control for the imaginary applications below. Choose from if-else, while, for, continue, break.\n",
    "\n",
    "- 1: Given a list of people `['John', 'Maggie', 'Mark']`, greet them by name (print \"Hi\" + name) \n",
    "- 2: Wait until the user gives you a correct input.\n",
    "- 3: Between 1 and 10, print the numbers 6 and 7. Skip everything else."
   ]
  },
  {
   "cell_type": "code",
   "execution_count": 5,
   "metadata": {},
   "outputs": [],
   "source": [
    "### INSERT SOLUTION\n",
    "\n",
    "#1-\n",
    "#2-\n",
    "#3- "
   ]
  },
  {
   "cell_type": "markdown",
   "metadata": {},
   "source": [
    "### Exercise 2 - Happy New Year\n",
    "\n",
    "Create two New Year's Countdowns, one with `while` and one with `for` loops. At \"midnight\", print \"HAPPY NEW YEAR FOLKS!\".\n",
    "\n",
    "*Tip: don't forget the `range` from Session 1."
   ]
  },
  {
   "cell_type": "code",
   "execution_count": null,
   "metadata": {},
   "outputs": [],
   "source": [
    "### INSERT SOLUTION"
   ]
  },
  {
   "cell_type": "markdown",
   "metadata": {},
   "source": [
    "### Exercise 3 - Large Caps\n",
    "\n",
    "Given the dict below of companies with largest market cap, create a new `marketcap_large` dictionary containing only companies above 2$T."
   ]
  },
  {
   "cell_type": "code",
   "execution_count": null,
   "metadata": {},
   "outputs": [],
   "source": [
    "# Market Capitalization, in $T\n",
    "marketcap = {\n",
    "    \"Apple\": 2.537, \n",
    "    \"Saudi Aramco\": 2.392, \n",
    "    \"Microsoft\": 2.074, \n",
    "    \"Alphabet\": 1.535, \n",
    "    \"Amazon\": 1.184\n",
    "}"
   ]
  },
  {
   "cell_type": "code",
   "execution_count": null,
   "metadata": {},
   "outputs": [],
   "source": [
    "### INSERT SOLUTION"
   ]
  },
  {
   "attachments": {},
   "cell_type": "markdown",
   "metadata": {},
   "source": [
    "### Exercise 4 - Months\n",
    "\n",
    "test_list = [\"Jan\",\"Feb\",\"Mar\",\"Apr\",\"May\",\"Jun\",Jul\",\"Aug\",\"Sep\",\"Oct\",\"Nov\",\"Dec\"]\n",
    "\n",
    "using this test_list, print all months in the year that have 31 days. If they start with an M, print them uppercased"
   ]
  },
  {
   "cell_type": "code",
   "execution_count": null,
   "metadata": {},
   "outputs": [],
   "source": [
    "### INSERT SOLUTION"
   ]
  },
  {
   "attachments": {},
   "cell_type": "markdown",
   "metadata": {},
   "source": [
    "<img src=media/congratulations.png width=900/>"
   ]
  },
  {
   "attachments": {},
   "cell_type": "markdown",
   "metadata": {},
   "source": [
    "### Congratulations!! You've successfully finished the first session of Python 101! \n",
    "\n",
    "#### Go take a rest and we'll see again in session 02\n",
    "\n"
   ]
  },
  {
   "attachments": {},
   "cell_type": "markdown",
   "metadata": {},
   "source": [
    "<img src=media/session1_ending.png width=900/>"
   ]
  },
  {
   "cell_type": "markdown",
   "metadata": {},
   "source": []
  }
 ],
 "metadata": {
  "interpreter": {
   "hash": "62450144029c700d9828a520a84c849f57ec997bbb5cd86252d9dcd358a93bcf"
  },
  "kernelspec": {
   "display_name": "Python 3",
   "language": "python",
   "name": "python3"
  },
  "language_info": {
   "codemirror_mode": {
    "name": "ipython",
    "version": 3
   },
   "file_extension": ".py",
   "mimetype": "text/x-python",
   "name": "python",
   "nbconvert_exporter": "python",
   "pygments_lexer": "ipython3",
   "version": "3.10.9"
  }
 },
 "nbformat": 4,
 "nbformat_minor": 4
}
