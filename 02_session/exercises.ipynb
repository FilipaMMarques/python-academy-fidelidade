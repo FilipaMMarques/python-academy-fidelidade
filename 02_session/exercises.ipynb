{
 "cells": [
  {
   "cell_type": "markdown",
   "id": "dc2f4add-1fd3-4eee-8565-642c6275570b",
   "metadata": {},
   "source": [
    "# Exercises"
   ]
  },
  {
   "attachments": {},
   "cell_type": "markdown",
   "id": "0ff44c95-4021-44fa-a96f-c08850c02edd",
   "metadata": {},
   "source": [
    "## Functions\n",
    "\n",
    "### Exercise 1  - Built-in\n",
    "\n",
    "**(NO CODE)** Check which of the [built-in functions](https://docs.python.org/3.10/library/functions.html) allows you to:\n",
    "- Iterate over multiple iterables at the same time\n",
    "- Get the smallest/largest item in an iterable\n",
    "- Check if any element of an iterable is True.\n",
    "- Check if all elements of an iterable are True."
   ]
  },
  {
   "cell_type": "code",
   "execution_count": null,
   "id": "36ec4870",
   "metadata": {},
   "outputs": [],
   "source": [
    "### INSERT SOLUTION"
   ]
  },
  {
   "attachments": {},
   "cell_type": "markdown",
   "id": "821f83c0-c472-46e6-b0db-f5a7a7baec22",
   "metadata": {},
   "source": [
    "### Exercise 2 - Unknown Arguments\n",
    "\n",
    "Create a `sum_all` function that sums all the positional arguments we provide. It must return the results below.\n",
    "\n",
    "```python\n",
    "sum_all(2, 3)        # 5\n",
    "sum_all(2, 3, 4)     # 9\n",
    "sum_all(2, 3, 4, 7)  # 16\n",
    "```"
   ]
  },
  {
   "cell_type": "code",
   "execution_count": null,
   "id": "53d7941f-f81e-4648-82e5-74eec121bfb3",
   "metadata": {},
   "outputs": [],
   "source": [
    "### INSERT SOLUTION"
   ]
  },
  {
   "attachments": {},
   "cell_type": "markdown",
   "id": "5568cf06-3f83-41ba-8dbb-712351d25677",
   "metadata": {},
   "source": [
    "### Exercise 3 - (Advanced) Fibonacci\n",
    "\n",
    "In a [Fibonacci sequence], each number is the sum of the two preceding ones. \n",
    "\n",
    "0, 1, 1, 2, 3, 5, 8, 13, 21, 34,...\n",
    "\n",
    "Create a `fib` function that calculates the Fibonacci nuumber at a given step.\n",
    "\n",
    "```python\n",
    "fib(0)             # 0 - first element\n",
    "fib(1)             # 1 - second element\n",
    "fib(2)             # 1 - third element\n",
    "fib(3)             # 2 - fourth element\n",
    "fib(8)             # 21 - ninth element\n",
    "```"
   ]
  },
  {
   "attachments": {},
   "cell_type": "markdown",
   "id": "0d4bff14-9a0a-4282-b3aa-cc45d04d719c",
   "metadata": {},
   "source": [
    "### Exercise 4 - return, print\n",
    "\n",
    "Below we have multiple functions that use print, return or a combination of both.\n",
    "\n",
    "Without calling them (i.e. running `fun1()`), take a look at their code and predict their behaviour:\n",
    "- Will they display something?; and\n",
    "- Will they output something?\n",
    "\n",
    "For `fun4()`, why do we need the \"extra\" return statement?"
   ]
  },
  {
   "cell_type": "code",
   "execution_count": 7,
   "id": "1ada88b5-a2d4-4b48-a8d1-5f6468a72a0b",
   "metadata": {},
   "outputs": [],
   "source": [
    "def fun1():\n",
    "    print(\"Hi!\")\n",
    "    \n",
    "def fun2():\n",
    "    return \"Hi!\"\n",
    "\n",
    "def fun3():\n",
    "    fun1()\n",
    "    fun2()\n",
    "    \n",
    "def fun4():\n",
    "    return fun2()"
   ]
  },
  {
   "cell_type": "code",
   "execution_count": null,
   "id": "331e21cb-18ff-441e-96d6-3c719cf0c882",
   "metadata": {},
   "outputs": [],
   "source": [
    "### TEST FUNCTIONS HERE"
   ]
  },
  {
   "attachments": {},
   "cell_type": "markdown",
   "id": "cd1f221f",
   "metadata": {},
   "source": [
    "## DataFrames\n",
    "\n",
    "### Exercise 5  - Pandas basics\n",
    "Use the practice code block below to find out the answers on `pandas` and DataFrames.\n",
    "\n",
    "  1. What is the dtype of a Series with mixed data types? e.g. float, int, strings\n",
    "  2. Create a DataFrame from a dict. e.g. band DataFrame from the learning notebook\n",
    "  3. In separate cells, get the first and last 5 elements of the new dataframe (tip: methods from Basic Functionality section)\n"
   ]
  },
  {
   "cell_type": "code",
   "execution_count": null,
   "id": "ff5a8045",
   "metadata": {},
   "outputs": [],
   "source": [
    "### DATAFRAMES PRACTICE BLOCK\n"
   ]
  },
  {
   "attachments": {},
   "cell_type": "markdown",
   "id": "0fc10288-c6ca-4122-af5d-db279c9f91e3",
   "metadata": {},
   "source": [
    "## DataFrames Intermediate"
   ]
  },
  {
   "attachments": {},
   "cell_type": "markdown",
   "id": "9f82d710-13da-44c2-820f-5dee8d2839b2",
   "metadata": {},
   "source": [
    "### Exercise 6 - Auto\n",
    "\n",
    "Load the `auto-mpg.csv` [auto-mpg dataset](https://archive.ics.uci.edu/ml/datasets/auto+mpg) into an `auto` variable. Then, get the following info:\n",
    "- What is the average miles per galon?\n",
    "- Are there any missing values?\n",
    "- Do we have repeated car names?\n",
    "- How many Fords, Dodges and VWs we have? You first need to split the `car name` into new `brand` and `model` columns.\n",
    "  "
   ]
  },
  {
   "attachments": {},
   "cell_type": "markdown",
   "id": "ea3859d3-206d-4ee8-a29a-389921ef1e37",
   "metadata": {},
   "source": [
    "### Exercise 7 - Plotting\n",
    "\n",
    "Can you replicate the plots below using the `auto` DataFrame? You can plot them one by one, but pay attention to the titles.\n",
    "<p float='left'>\n",
    "    <img src=media/exercise-mpg_per_year.png width=\"400\" />\n",
    "    <img src=media/exercise-models_per_cylinders.png width=\"400\" />\n",
    "    <img src=media/exercise-weight_acceleration.png width=\"400\" />\n",
    "</p>"
   ]
  },
  {
   "cell_type": "code",
   "execution_count": null,
   "id": "594d2a9d",
   "metadata": {},
   "outputs": [],
   "source": [
    "### INSERT SOLUTION"
   ]
  },
  {
   "cell_type": "code",
   "execution_count": null,
   "id": "69da464c",
   "metadata": {},
   "outputs": [],
   "source": []
  }
 ],
 "metadata": {
  "kernelspec": {
   "display_name": "Python 3",
   "language": "python",
   "name": "python3"
  },
  "language_info": {
   "codemirror_mode": {
    "name": "ipython",
    "version": 3
   },
   "file_extension": ".py",
   "mimetype": "text/x-python",
   "name": "python",
   "nbconvert_exporter": "python",
   "pygments_lexer": "ipython3",
   "version": "3.9.12"
  }
 },
 "nbformat": 4,
 "nbformat_minor": 5
}
