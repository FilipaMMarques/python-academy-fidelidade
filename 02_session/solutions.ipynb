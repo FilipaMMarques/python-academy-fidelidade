{
 "cells": [
  {
   "cell_type": "markdown",
   "id": "dc2f4add-1fd3-4eee-8565-642c6275570b",
   "metadata": {},
   "source": [
    "# Session 2 - Exercises"
   ]
  },
  {
   "attachments": {},
   "cell_type": "markdown",
   "id": "0ff44c95-4021-44fa-a96f-c08850c02edd",
   "metadata": {},
   "source": [
    "## Functions\n",
    "\n",
    "### Exercise 1  - Built-in\n",
    "\n",
    "**(NO CODE)** Check which of the [built-in functions](https://docs.python.org/3.10/library/functions.html) allows you to:\n",
    "- Iterate over multiple iterables at the same time\n",
    "- Get the smallest/largest item in an iterable\n",
    "- Check if any element of an iterable is True.\n",
    "- Check if all elements of an iterable are True."
   ]
  },
  {
   "cell_type": "code",
   "execution_count": null,
   "id": "02c5fa84",
   "metadata": {},
   "outputs": [],
   "source": [
    "# 1. zip\n",
    "# 2. min, max\n",
    "# 3. any\n",
    "# 4. all"
   ]
  },
  {
   "attachments": {},
   "cell_type": "markdown",
   "id": "821f83c0-c472-46e6-b0db-f5a7a7baec22",
   "metadata": {},
   "source": [
    "### Exercise 2 - Unknown Arguments\n",
    "\n",
    "Create a `sum_all` function that sums all the positional arguments we provide. It must return the results below.\n",
    "\n",
    "```python\n",
    "sum_all(2, 3)        # 5\n",
    "sum_all(2, 3, 4)     # 9\n",
    "sum_all(2, 3, 4, 7)  # 16\n",
    "```"
   ]
  },
  {
   "cell_type": "code",
   "execution_count": 11,
   "id": "53d7941f-f81e-4648-82e5-74eec121bfb3",
   "metadata": {},
   "outputs": [],
   "source": [
    "### INSERT SOLUTION"
   ]
  },
  {
   "cell_type": "code",
   "execution_count": 12,
   "id": "ae9cfad2",
   "metadata": {},
   "outputs": [],
   "source": [
    "def sum_all(*args):\n",
    "    return sum(args)"
   ]
  },
  {
   "cell_type": "code",
   "execution_count": 13,
   "id": "ec43eef0",
   "metadata": {},
   "outputs": [],
   "source": [
    "assert sum_all(2, 3) == 5\n",
    "assert sum_all(2, 3, 4) == 9\n",
    "assert sum_all(2, 3, 4, 7) == 16"
   ]
  },
  {
   "attachments": {},
   "cell_type": "markdown",
   "id": "5568cf06-3f83-41ba-8dbb-712351d25677",
   "metadata": {},
   "source": [
    "### Exercise 3 - (Advanced) Fibonacci\n",
    "\n",
    "In a [Fibonacci sequence], each number is the sum of the two preceding ones. \n",
    "\n",
    "0, 1, 1, 2, 3, 5, 8, 13, 21, 34,...\n",
    "\n",
    "Create a `fib` function that calculates the Fibonacci number at a given step.\n",
    "\n",
    "```python\n",
    "fib(0)             # 0 - first element\n",
    "fib(1)             # 1 - second element\n",
    "fib(2)             # 1 - third element\n",
    "fib(3)             # 2 - fourth element\n",
    "fib(8)             # 21 - ninth element\n",
    "```"
   ]
  },
  {
   "cell_type": "code",
   "execution_count": 14,
   "id": "621635a3",
   "metadata": {},
   "outputs": [],
   "source": [
    "def fib(step):\n",
    "    if step == 0:\n",
    "        return 0\n",
    "    elif step == 1 or step == 2:\n",
    "        return 1\n",
    "    else:\n",
    "        return fib(step-1) + fib(step-2)"
   ]
  },
  {
   "cell_type": "code",
   "execution_count": 15,
   "id": "c4609a27",
   "metadata": {},
   "outputs": [
    {
     "name": "stdout",
     "output_type": "stream",
     "text": [
      "0\n",
      "1\n",
      "1\n",
      "2\n",
      "3\n",
      "5\n",
      "8\n",
      "13\n",
      "21\n",
      "34\n"
     ]
    }
   ],
   "source": [
    "for i in range(10):\n",
    "    print(fib(i))"
   ]
  },
  {
   "attachments": {},
   "cell_type": "markdown",
   "id": "407ae49e-c062-4e37-842d-a7251d1963cc",
   "metadata": {},
   "source": [
    "### Exercise 4 - return, print\n",
    "\n",
    "Below we have multiple functions that use print, return or a combination of both.\n",
    "\n",
    "Without calling them (i.e. running `fun1()`), take a look at their code and predict their behaviour:\n",
    "- Will they display something?; and\n",
    "- Will they output something?\n",
    "\n",
    "For `fun4()`, why do we need the \"extra\" return statement?"
   ]
  },
  {
   "cell_type": "code",
   "execution_count": 7,
   "id": "bf6647e1-e3e3-410e-a7cf-6ac8b59b0541",
   "metadata": {},
   "outputs": [],
   "source": [
    "def fun1():\n",
    "    print(\"Hi!\")\n",
    "    \n",
    "def fun2():\n",
    "    return \"Hi!\"\n",
    "\n",
    "def fun3():\n",
    "    fun1()\n",
    "    fun2()\n",
    "    \n",
    "def fun4():\n",
    "    return fun2()"
   ]
  },
  {
   "cell_type": "code",
   "execution_count": null,
   "id": "18746eb6-8c7c-4e00-b907-fdf12f094d6e",
   "metadata": {},
   "outputs": [],
   "source": [
    "### TEST FUNCTIONS HERE\n",
    "# fun1\n",
    "# - prints only, no return\n",
    "#\n",
    "# fun2\n",
    "# - return only, no print\n",
    "#\n",
    "# fun3\n",
    "# - print only, no return (returns to function scope, but no to outside)\n",
    "# \n",
    "# fun4\n",
    "# - return only"
   ]
  },
  {
   "attachments": {},
   "cell_type": "markdown",
   "id": "bfedd224",
   "metadata": {},
   "source": [
    "## DataFrames\n",
    "\n",
    "### Exercise 5  - Pandas basics\n",
    "Use the practice code block below to find out the answers on `pandas` and DataFrames.\n",
    "\n",
    "  1. What is the dtype of a Series with mixed data types? e.g. float, int, strings\n",
    "  2. Create a DataFrame from a dict. e.g. band DataFrame from the learning notebook\n",
    "  3. In separate cells, get the first and last 5 elements of the new dataframe (tip: methods from Basic Functionality section)\n"
   ]
  },
  {
   "cell_type": "code",
   "execution_count": null,
   "id": "6bcd78b0",
   "metadata": {},
   "outputs": [],
   "source": [
    "### SOLUTION\n",
    "\n",
    "# import\n",
    "import pandas as pd\n"
   ]
  },
  {
   "cell_type": "code",
   "execution_count": null,
   "id": "dfbcc028",
   "metadata": {},
   "outputs": [],
   "source": [
    "# 1. The dtype of a mixed data type Series is\n",
    "#  'object' if some element is not a number (e.g. string, list, dict)\n",
    "#  'float' if members are mixed float and integers\n"
   ]
  },
  {
   "cell_type": "code",
   "execution_count": null,
   "id": "9288e99d",
   "metadata": {},
   "outputs": [],
   "source": [
    "# 2. Create a dict , where the keys are the column_names and  the values are mappings of row key to to row value.\n",
    "band_dict = {\n",
    "    \"Jacob\" : { \"Age\": 45, \"Skill\": \"drums\"},\n",
    "    \"Kimbra\" : { \"Age\": 20, \"Skill\": \"piano\"},\n",
    "    \"Daniel\" : { \"Age\": 60, \"Skill\": \"guitar\"},\n",
    "    \"Tori\" : { \"Age\": 47, \"Skill\": \"bass\"},\n",
    "}\n"
   ]
  },
  {
   "cell_type": "code",
   "execution_count": null,
   "id": "e88aa5ef",
   "metadata": {},
   "outputs": [],
   "source": [
    "band_df = pd.DataFrame(band_dict)\n",
    "band_df\n"
   ]
  },
  {
   "cell_type": "code",
   "execution_count": null,
   "id": "3942c9c0",
   "metadata": {},
   "outputs": [],
   "source": [
    "# 3. First elements - head\n",
    "band_df.head(5)\n"
   ]
  },
  {
   "cell_type": "code",
   "execution_count": null,
   "id": "ad21bda4",
   "metadata": {},
   "outputs": [],
   "source": [
    "# 3. Last elements - tail\n",
    "band_df.tail(5)"
   ]
  },
  {
   "attachments": {},
   "cell_type": "markdown",
   "id": "0fc10288-c6ca-4122-af5d-db279c9f91e3",
   "metadata": {},
   "source": [
    "## DataFrames Intermediate"
   ]
  },
  {
   "attachments": {},
   "cell_type": "markdown",
   "id": "9f82d710-13da-44c2-820f-5dee8d2839b2",
   "metadata": {},
   "source": [
    "### Exercise 6 - Auto\n",
    "\n",
    "Load the `auto-mpg.csv` [auto-mpg dataset](https://archive.ics.uci.edu/ml/datasets/auto+mpg) into an `auto` variable. Then, get the following info:\n",
    "- What is the average miles per galon?\n",
    "- Are there any missing values?\n",
    "- Do we have repeated car names?\n",
    "- How many Fords, Dodges and VWs we have? You first need to split the `car name` into new `brand` and `model` columns.\n",
    "  "
   ]
  },
  {
   "cell_type": "code",
   "execution_count": 16,
   "id": "e9134ab9",
   "metadata": {},
   "outputs": [],
   "source": [
    "import pandas as pd"
   ]
  },
  {
   "cell_type": "code",
   "execution_count": 17,
   "id": "e83e4d45",
   "metadata": {},
   "outputs": [
    {
     "data": {
      "text/html": [
       "<div>\n",
       "<style scoped>\n",
       "    .dataframe tbody tr th:only-of-type {\n",
       "        vertical-align: middle;\n",
       "    }\n",
       "\n",
       "    .dataframe tbody tr th {\n",
       "        vertical-align: top;\n",
       "    }\n",
       "\n",
       "    .dataframe thead th {\n",
       "        text-align: right;\n",
       "    }\n",
       "</style>\n",
       "<table border=\"1\" class=\"dataframe\">\n",
       "  <thead>\n",
       "    <tr style=\"text-align: right;\">\n",
       "      <th></th>\n",
       "      <th>mpg</th>\n",
       "      <th>cylinders</th>\n",
       "      <th>displacement</th>\n",
       "      <th>horsepower</th>\n",
       "      <th>weight</th>\n",
       "      <th>acceleration</th>\n",
       "      <th>model year</th>\n",
       "      <th>origin</th>\n",
       "      <th>car name</th>\n",
       "    </tr>\n",
       "  </thead>\n",
       "  <tbody>\n",
       "    <tr>\n",
       "      <th>0</th>\n",
       "      <td>18.0</td>\n",
       "      <td>8</td>\n",
       "      <td>307.0</td>\n",
       "      <td>130</td>\n",
       "      <td>3504</td>\n",
       "      <td>12.0</td>\n",
       "      <td>70</td>\n",
       "      <td>1</td>\n",
       "      <td>chevrolet chevelle malibu</td>\n",
       "    </tr>\n",
       "    <tr>\n",
       "      <th>1</th>\n",
       "      <td>15.0</td>\n",
       "      <td>8</td>\n",
       "      <td>350.0</td>\n",
       "      <td>165</td>\n",
       "      <td>3693</td>\n",
       "      <td>11.5</td>\n",
       "      <td>70</td>\n",
       "      <td>1</td>\n",
       "      <td>buick skylark 320</td>\n",
       "    </tr>\n",
       "    <tr>\n",
       "      <th>2</th>\n",
       "      <td>18.0</td>\n",
       "      <td>8</td>\n",
       "      <td>318.0</td>\n",
       "      <td>150</td>\n",
       "      <td>3436</td>\n",
       "      <td>11.0</td>\n",
       "      <td>70</td>\n",
       "      <td>1</td>\n",
       "      <td>plymouth satellite</td>\n",
       "    </tr>\n",
       "    <tr>\n",
       "      <th>3</th>\n",
       "      <td>16.0</td>\n",
       "      <td>8</td>\n",
       "      <td>304.0</td>\n",
       "      <td>150</td>\n",
       "      <td>3433</td>\n",
       "      <td>12.0</td>\n",
       "      <td>70</td>\n",
       "      <td>1</td>\n",
       "      <td>amc rebel sst</td>\n",
       "    </tr>\n",
       "    <tr>\n",
       "      <th>4</th>\n",
       "      <td>17.0</td>\n",
       "      <td>8</td>\n",
       "      <td>302.0</td>\n",
       "      <td>140</td>\n",
       "      <td>3449</td>\n",
       "      <td>10.5</td>\n",
       "      <td>70</td>\n",
       "      <td>1</td>\n",
       "      <td>ford torino</td>\n",
       "    </tr>\n",
       "  </tbody>\n",
       "</table>\n",
       "</div>"
      ],
      "text/plain": [
       "    mpg  cylinders  displacement horsepower  weight  acceleration  model year  \\\n",
       "0  18.0          8         307.0        130    3504          12.0          70   \n",
       "1  15.0          8         350.0        165    3693          11.5          70   \n",
       "2  18.0          8         318.0        150    3436          11.0          70   \n",
       "3  16.0          8         304.0        150    3433          12.0          70   \n",
       "4  17.0          8         302.0        140    3449          10.5          70   \n",
       "\n",
       "   origin                   car name  \n",
       "0       1  chevrolet chevelle malibu  \n",
       "1       1          buick skylark 320  \n",
       "2       1         plymouth satellite  \n",
       "3       1              amc rebel sst  \n",
       "4       1                ford torino  "
      ]
     },
     "execution_count": 17,
     "metadata": {},
     "output_type": "execute_result"
    }
   ],
   "source": [
    "auto = pd.read_csv('data/auto-mpg.csv')\n",
    "auto.head()"
   ]
  },
  {
   "cell_type": "code",
   "execution_count": 18,
   "id": "24a99144",
   "metadata": {},
   "outputs": [
    {
     "data": {
      "text/plain": [
       "23.514572864321615"
      ]
     },
     "execution_count": 18,
     "metadata": {},
     "output_type": "execute_result"
    }
   ],
   "source": [
    "# average miles per galon\n",
    "auto['mpg'].mean()"
   ]
  },
  {
   "cell_type": "code",
   "execution_count": 19,
   "id": "6a327e4a",
   "metadata": {},
   "outputs": [
    {
     "data": {
      "text/plain": [
       "0"
      ]
     },
     "execution_count": 19,
     "metadata": {},
     "output_type": "execute_result"
    }
   ],
   "source": [
    "# are there any missing values\n",
    "auto.isna().sum().sum()"
   ]
  },
  {
   "cell_type": "code",
   "execution_count": 20,
   "id": "d64970f7",
   "metadata": {},
   "outputs": [
    {
     "data": {
      "text/plain": [
       "True"
      ]
     },
     "execution_count": 20,
     "metadata": {},
     "output_type": "execute_result"
    }
   ],
   "source": [
    "# do we have repeated car names\n",
    "auto['car name'].duplicated().any()"
   ]
  },
  {
   "cell_type": "code",
   "execution_count": 21,
   "id": "4dd0352b",
   "metadata": {},
   "outputs": [
    {
     "data": {
      "text/plain": [
       "ford          51\n",
       "dodge         28\n",
       "volkswagen    15\n",
       "Name: brand, dtype: int64"
      ]
     },
     "execution_count": 21,
     "metadata": {},
     "output_type": "execute_result"
    }
   ],
   "source": [
    "# how many ford, dodges and vws\n",
    "auto[['brand', 'model']] = auto['car name'].str.split(pat=' ', n=1, expand=True)  # split by first whitespace\n",
    "auto['brand'].value_counts().loc[['ford', 'dodge', 'volkswagen']]"
   ]
  },
  {
   "attachments": {},
   "cell_type": "markdown",
   "id": "ea3859d3-206d-4ee8-a29a-389921ef1e37",
   "metadata": {},
   "source": [
    "### Exercise 7 - Plotting\n",
    "\n",
    "Can you replicate the plots below using the `auto` DataFrame? You can plot them one by one, but pay attention to the titles.\n",
    "<p float='left'>\n",
    "    <img src=media/exercise-mpg_per_year.png width=\"400\" />\n",
    "    <img src=media/exercise-models_per_cylinders.png width=\"400\" />\n",
    "    <img src=media/exercise-weight_acceleration.png width=\"400\" />\n",
    "</p>"
   ]
  },
  {
   "cell_type": "code",
   "execution_count": 26,
   "id": "abefe31f-2d2b-4236-afaa-e9c594d990b2",
   "metadata": {},
   "outputs": [],
   "source": [
    "%matplotlib inline"
   ]
  },
  {
   "cell_type": "code",
   "execution_count": 29,
   "id": "b741c762",
   "metadata": {},
   "outputs": [
    {
     "data": {
      "text/plain": [
       "<AxesSubplot:title={'center':'Average Miles per Galon per Model Year'}, xlabel='model year'>"
      ]
     },
     "execution_count": 29,
     "metadata": {},
     "output_type": "execute_result"
    },
    {
     "data": {
      "image/png": "[encoded data removed]",
      "text/plain": [
       "<Figure size 432x288 with 1 Axes>"
      ]
     },
     "metadata": {
      "needs_background": "light"
     },
     "output_type": "display_data"
    }
   ],
   "source": [
    "auto.groupby('model year').agg({'mpg': 'mean'}).plot(title='Average Miles per Galon per Model Year', legend=False)"
   ]
  },
  {
   "cell_type": "code",
   "execution_count": 34,
   "id": "a3499a18",
   "metadata": {},
   "outputs": [
    {
     "data": {
      "text/plain": [
       "<AxesSubplot:title={'center':'Number of Models per Number of Cylinders'}, xlabel='cylinders'>"
      ]
     },
     "execution_count": 34,
     "metadata": {},
     "output_type": "execute_result"
    },
    {
     "data": {
      "image/png": "[encoded data removed]",
      "text/plain": [
       "<Figure size 432x288 with 1 Axes>"
      ]
     },
     "metadata": {
      "needs_background": "light"
     },
     "output_type": "display_data"
    }
   ],
   "source": [
    "auto.groupby('cylinders').size().plot(kind='bar', title='Number of Models per Number of Cylinders')"
   ]
  },
  {
   "cell_type": "code",
   "execution_count": 37,
   "id": "ab899327-5019-4c65-a5dd-d1d8128fa284",
   "metadata": {},
   "outputs": [
    {
     "data": {
      "text/plain": [
       "<AxesSubplot:title={'center':'More Weight, Less Acceleration'}, xlabel='weight', ylabel='acceleration'>"
      ]
     },
     "execution_count": 37,
     "metadata": {},
     "output_type": "execute_result"
    },
    {
     "data": {
      "image/png": "[encoded data removed]",
      "text/plain": [
       "<Figure size 432x288 with 1 Axes>"
      ]
     },
     "metadata": {
      "needs_background": "light"
     },
     "output_type": "display_data"
    }
   ],
   "source": [
    "auto.plot.scatter(x='weight', y='acceleration', title='More Weight, Less Acceleration')"
   ]
  }
 ],
 "metadata": {
  "interpreter": {
   "hash": "62450144029c700d9828a520a84c849f57ec997bbb5cd86252d9dcd358a93bcf"
  },
  "kernelspec": {
   "display_name": "Python 3",
   "language": "python",
   "name": "python3"
  },
  "language_info": {
   "codemirror_mode": {
    "name": "ipython",
    "version": 3
   },
   "file_extension": ".py",
   "mimetype": "text/x-python",
   "name": "python",
   "nbconvert_exporter": "python",
   "pygments_lexer": "ipython3",
   "version": "3.9.12"
  }
 },
 "nbformat": 4,
 "nbformat_minor": 5
}
