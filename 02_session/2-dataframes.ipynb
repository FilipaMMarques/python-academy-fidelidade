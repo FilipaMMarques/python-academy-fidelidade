{
 "cells": [
  {
   "cell_type": "markdown",
   "metadata": {
    "slideshow": {
     "slide_type": "slide"
    },
    "tags": []
   },
   "source": [
    "# DataFrames\n",
    "\n",
    "Welcome to the \"DataFrames\" unit in the Python Academy! In this notebook, you will learn:\n",
    "  - Pandas\n",
    "  - Data Structures (Series, DataFrames)\n",
    "  - Basic pandas Functionality\n",
    "  - Advanced pandas Functionality"
   ]
  },
  {
   "cell_type": "markdown",
   "metadata": {
    "slideshow": {
     "slide_type": "slide"
    },
    "tags": []
   },
   "source": [
    "## Pandas\n",
    "\n",
    "<img src=\"media/pandas.jpg\" alt=\"Photo by Peter Burdon on Unsplash\" title=\"Pandas are clumsy, much like Data Scientists\" width=\"250\" />\n",
    "\n",
    "Pandas is a fundamental package for **analysis and manipulation of tabular data** in Python. Similar to spreadsheets (e.g. Excel) and databases (e.g.SQL), tables in Pandas are comprised of rows and columns which form a `DataFrame`. Individually, a 1-dimensional row or column is called a `Series`.\n",
    "\n",
    "Pandas is a *de facto* tool for manipulating data with Python. It is fast, enables reshaping/pivoting, allows to merge/join datasets and aggregate data with groupby operations, supports time series functionality, and (most of all) is widely supported online (many tutorials and stack overflow answers to guide your journey)."
   ]
  },
  {
   "cell_type": "markdown",
   "metadata": {
    "slideshow": {
     "slide_type": "subslide"
    },
    "tags": []
   },
   "source": [
    "*We import the `pandas` as a short name `pd`, which is not required but it's standard. This just means we can use stuff from pandas with a shorter version `pd.{something}` instead of `pandas.{something}`.*"
   ]
  },
  {
   "cell_type": "code",
   "execution_count": 1,
   "metadata": {
    "slideshow": {
     "slide_type": "fragment"
    },
    "tags": []
   },
   "outputs": [],
   "source": [
    "import pandas as pd       # make pandas package available in your kernel."
   ]
  },
  {
   "cell_type": "markdown",
   "metadata": {
    "slideshow": {
     "slide_type": "slide"
    },
    "tags": []
   },
   "source": [
    "## Data Structures\n",
    "Pandas has two main structures of data: Series and DataFrames.\n",
    "\n",
    "**Series** are one-dimensional arrays of data of the same type. More info on [Pandas Series docs](https://pandas.pydata.org/pandas-docs/stable/reference/api/pandas.Series.html).\n",
    "\n",
    "<img src=media/pd-series.png />\n",
    "\n",
    "A **DataFrame** is a two-dimensional, tabular structure that can be seen as a container of Series. But you may also have a DataFrame as storage for a one-dimensional array (we will get there eventually). More info in [Pandas DataFrame docs](https://pandas.pydata.org/pandas-docs/stable/reference/frame.html)\n",
    "\n",
    "<img src=media/pd-dataframe.png />"
   ]
  },
  {
   "cell_type": "markdown",
   "metadata": {
    "slideshow": {
     "slide_type": "slide"
    },
    "tags": []
   },
   "source": [
    "### Series\n",
    "\n",
    "**Series** are one-dimensional arrays of data of the same type."
   ]
  },
  {
   "cell_type": "code",
   "execution_count": null,
   "metadata": {
    "slideshow": {
     "slide_type": "fragment"
    },
    "tags": []
   },
   "outputs": [],
   "source": [
    "# pd.Series\n",
    "ages = pd.Series([45, 20, 60, 47], name='age')\n",
    "ages"
   ]
  },
  {
   "cell_type": "markdown",
   "metadata": {
    "slideshow": {
     "slide_type": "fragment"
    },
    "tags": []
   },
   "source": [
    "We can see the Series contains 4 elements (remember Python has 0-indexing), and they are of the same dtype int64 (aka integers)."
   ]
  },
  {
   "cell_type": "markdown",
   "metadata": {
    "slideshow": {
     "slide_type": "subslide"
    },
    "tags": []
   },
   "source": [
    "### Indexing on Series\n",
    "\n",
    "Indexing is a **labelling that allow us to locate data points more easily**.\n",
    "\n",
    "Our original `ages` Series contains a bunch of numbers in the left (0, 1, 2, 3). Those values represent the index, which is used (among other things) for selecting. By default, if no index is provided pandas will create one from 0. Alternatively, you can provide your own index."
   ]
  },
  {
   "cell_type": "code",
   "execution_count": null,
   "metadata": {
    "slideshow": {
     "slide_type": "fragment"
    },
    "tags": []
   },
   "outputs": [],
   "source": [
    "ages = pd.Series([45, 20, 60, 47], index=[\"Jacob\", \"Kimbra\", \"Daniel\", \"Tori\"])\n",
    "ages"
   ]
  },
  {
   "cell_type": "markdown",
   "metadata": {
    "slideshow": {
     "slide_type": "subslide"
    },
    "tags": []
   },
   "source": [
    "<div class=\"alert alert-success\">\n",
    "    🧠 Similar to the <i>dict</i> data type, a Series specific value can be returned by the corresponding index value. \n",
    "</div>"
   ]
  },
  {
   "cell_type": "code",
   "execution_count": null,
   "metadata": {
    "slideshow": {
     "slide_type": "fragment"
    },
    "tags": []
   },
   "outputs": [],
   "source": [
    "ages[\"Jacob\"]"
   ]
  },
  {
   "cell_type": "code",
   "execution_count": null,
   "metadata": {
    "slideshow": {
     "slide_type": "subslide"
    },
    "tags": []
   },
   "outputs": [],
   "source": [
    "# Lab - Dict as a Series\n",
    "# To further your skills with Series, let's try to create the same indexed `ages` Series, but constructing from a `dict` instead"
   ]
  },
  {
   "cell_type": "markdown",
   "metadata": {
    "slideshow": {
     "slide_type": "slide"
    },
    "tags": []
   },
   "source": [
    "### DataFrames\n",
    "\n",
    "A **DataFrame** is a two-dimensional, tabular-like structure of potentially heterogenous tabular data. Similar to Excel spreadsheets, you can think about DataFrames as the collection of rows and columns. Alternatively, DataFrame can be understood as a collection of Series."
   ]
  },
  {
   "cell_type": "code",
   "execution_count": null,
   "metadata": {
    "slideshow": {
     "slide_type": "subslide"
    },
    "tags": []
   },
   "outputs": [],
   "source": [
    "band = pd.DataFrame([ \n",
    "    [45, 20, 60, 47], \n",
    "    [\"drums\", \"piano\", \"guitar\", \"bass\"] \n",
    "])\n",
    "band"
   ]
  },
  {
   "cell_type": "markdown",
   "metadata": {
    "slideshow": {
     "slide_type": "fragment"
    },
    "tags": []
   },
   "source": [
    "The band `DataFrame` is being constructed as a list of lists (notice the `[]` brackets), where each list is interpreted as a row of values. To be more explicit, we can provide the list of names for each column and/or row."
   ]
  },
  {
   "cell_type": "code",
   "execution_count": 4,
   "metadata": {
    "slideshow": {
     "slide_type": "subslide"
    },
    "tags": []
   },
   "outputs": [
    {
     "data": {
      "text/html": [
       "<div>\n",
       "<style scoped>\n",
       "    .dataframe tbody tr th:only-of-type {\n",
       "        vertical-align: middle;\n",
       "    }\n",
       "\n",
       "    .dataframe tbody tr th {\n",
       "        vertical-align: top;\n",
       "    }\n",
       "\n",
       "    .dataframe thead th {\n",
       "        text-align: right;\n",
       "    }\n",
       "</style>\n",
       "<table border=\"1\" class=\"dataframe\">\n",
       "  <thead>\n",
       "    <tr style=\"text-align: right;\">\n",
       "      <th></th>\n",
       "      <th>Jacob</th>\n",
       "      <th>Kimbra</th>\n",
       "      <th>Daniel</th>\n",
       "      <th>Tori</th>\n",
       "    </tr>\n",
       "  </thead>\n",
       "  <tbody>\n",
       "    <tr>\n",
       "      <th>Age</th>\n",
       "      <td>45</td>\n",
       "      <td>20</td>\n",
       "      <td>60</td>\n",
       "      <td>47</td>\n",
       "    </tr>\n",
       "    <tr>\n",
       "      <th>Skill</th>\n",
       "      <td>drums</td>\n",
       "      <td>piano</td>\n",
       "      <td>guitar</td>\n",
       "      <td>bass</td>\n",
       "    </tr>\n",
       "  </tbody>\n",
       "</table>\n",
       "</div>"
      ],
      "text/plain": [
       "       Jacob Kimbra  Daniel  Tori\n",
       "Age       45     20      60    47\n",
       "Skill  drums  piano  guitar  bass"
      ]
     },
     "execution_count": 4,
     "metadata": {},
     "output_type": "execute_result"
    }
   ],
   "source": [
    "band = pd.DataFrame([ \n",
    "    [45, 20, 60, 47], \n",
    "    [\"drums\", \"piano\", \"guitar\", \"bass\"] ], \n",
    "    columns=[\"Jacob\", \"Kimbra\", \"Daniel\", \"Tori\"], \n",
    "    index=[\"Age\", \"Skill\"]\n",
    ")\n",
    "band"
   ]
  },
  {
   "cell_type": "code",
   "execution_count": null,
   "metadata": {
    "slideshow": {
     "slide_type": "fragment"
    },
    "tags": []
   },
   "outputs": [],
   "source": [
    "simple = pd.DataFrame([20, 24, 21])\n",
    "simple"
   ]
  },
  {
   "cell_type": "markdown",
   "metadata": {
    "slideshow": {
     "slide_type": "fragment"
    },
    "tags": []
   },
   "source": [
    "As mentioned before, DataFrames can also be used for one-dimensional data, such as the simple list we provide above. But this doesn't mean we can't extend it afterwards to contain additional rows and/or columns, as DataFrames are mutable in shape."
   ]
  },
  {
   "cell_type": "markdown",
   "metadata": {
    "slideshow": {
     "slide_type": "slide"
    },
    "tags": []
   },
   "source": [
    "### Indexing on DataFrames\n",
    "\n",
    "Additionally to the **index** used for Series, DataFrames can also be indexed by **columns**.\n",
    "\n",
    "#### Column Indexing\n",
    "\n",
    "You can select a specific column using:\n",
    "  - bracket notation `dataframe[column_name]`, preferred;\n",
    "  - dot notation `dataframe.column_name` (not advisable unless all column names are standardized and without blank spaces)."
   ]
  },
  {
   "cell_type": "code",
   "execution_count": 9,
   "metadata": {
    "slideshow": {
     "slide_type": "fragment"
    },
    "tags": []
   },
   "outputs": [
    {
     "data": {
      "text/html": [
       "<div>\n",
       "<style scoped>\n",
       "    .dataframe tbody tr th:only-of-type {\n",
       "        vertical-align: middle;\n",
       "    }\n",
       "\n",
       "    .dataframe tbody tr th {\n",
       "        vertical-align: top;\n",
       "    }\n",
       "\n",
       "    .dataframe thead th {\n",
       "        text-align: right;\n",
       "    }\n",
       "</style>\n",
       "<table border=\"1\" class=\"dataframe\">\n",
       "  <thead>\n",
       "    <tr style=\"text-align: right;\">\n",
       "      <th></th>\n",
       "      <th>Jacob</th>\n",
       "      <th>Tori</th>\n",
       "    </tr>\n",
       "  </thead>\n",
       "  <tbody>\n",
       "    <tr>\n",
       "      <th>Age</th>\n",
       "      <td>45</td>\n",
       "      <td>47</td>\n",
       "    </tr>\n",
       "    <tr>\n",
       "      <th>Skill</th>\n",
       "      <td>drums</td>\n",
       "      <td>bass</td>\n",
       "    </tr>\n",
       "  </tbody>\n",
       "</table>\n",
       "</div>"
      ],
      "text/plain": [
       "       Jacob  Tori\n",
       "Age       45    47\n",
       "Skill  drums  bass"
      ]
     },
     "execution_count": 9,
     "metadata": {},
     "output_type": "execute_result"
    }
   ],
   "source": [
    "# column indexing\n",
    "band[\"Jacob\"]\n",
    "band.Jacob\n",
    "\n",
    "# multiple column indexing\n",
    "# To select multiple columns, you can provide use bracket notation with a list of the column names.\n",
    "band[ [\"Jacob\", \"Tori\"] ]"
   ]
  },
  {
   "cell_type": "markdown",
   "metadata": {
    "slideshow": {
     "slide_type": "subslide"
    },
    "tags": []
   },
   "source": [
    "#### Row Indexing\n",
    "\n",
    "For selecting rows, we can:\n",
    "  - Select by index labels (`loc`)\n",
    "  - Select by index position (`iloc`)"
   ]
  },
  {
   "cell_type": "code",
   "execution_count": 10,
   "metadata": {
    "slideshow": {
     "slide_type": "fragment"
    },
    "tags": []
   },
   "outputs": [
    {
     "data": {
      "text/plain": [
       "Jacob      drums\n",
       "Kimbra     piano\n",
       "Daniel    guitar\n",
       "Tori        bass\n",
       "Name: Skill, dtype: object"
      ]
     },
     "execution_count": 10,
     "metadata": {},
     "output_type": "execute_result"
    }
   ],
   "source": [
    "# loc, iloc\n",
    "band.loc[\"Age\"]         # select the \"Age\" row from index\n",
    "band.iloc[1]            # select the 2nd row from index"
   ]
  },
  {
   "cell_type": "markdown",
   "metadata": {
    "slideshow": {
     "slide_type": "subslide"
    },
    "tags": []
   },
   "source": [
    "#### Multi-Axis Indexing\n",
    "\n",
    "We can use `loc` and `iloc` combine both column and row indexing!"
   ]
  },
  {
   "cell_type": "code",
   "execution_count": 13,
   "metadata": {
    "slideshow": {
     "slide_type": "fragment"
    },
    "tags": []
   },
   "outputs": [
    {
     "data": {
      "text/plain": [
       "'guitar'"
      ]
     },
     "execution_count": 13,
     "metadata": {},
     "output_type": "execute_result"
    }
   ],
   "source": [
    "# multi-axis loc, iloc\n",
    "band.loc[\"Age\", \"Kimbra\"]           # how old is Kimbra?\n",
    "band.iloc[1, 2]                     # 2nd column for Skill, 3rd member for Daniel"
   ]
  },
  {
   "cell_type": "markdown",
   "metadata": {
    "slideshow": {
     "slide_type": "subslide"
    },
    "tags": []
   },
   "source": [
    "### Adding Rows & Columns\n",
    "\n",
    "#### Adding or replacing a Row\n",
    "\n",
    "The same `.loc`  can be used to add a new row or updating if the index already exists."
   ]
  },
  {
   "cell_type": "code",
   "execution_count": null,
   "metadata": {
    "slideshow": {
     "slide_type": "fragment"
    },
    "tags": []
   },
   "outputs": [],
   "source": [
    "band.loc[\"Genre\"] = [\"jazz\", \"pop\", \"rock\", \"metal\"]\n",
    "band"
   ]
  },
  {
   "cell_type": "markdown",
   "metadata": {
    "slideshow": {
     "slide_type": "slide"
    },
    "tags": []
   },
   "source": [
    "#### Adding or replacing a Column\n",
    "\n",
    "Similarly, if we use the indexing methods for columns (dot or square bracket notation), we can either add a column or replace the existing values."
   ]
  },
  {
   "cell_type": "code",
   "execution_count": null,
   "metadata": {
    "slideshow": {
     "slide_type": "fragment"
    },
    "tags": []
   },
   "outputs": [],
   "source": [
    "band[\"Miles\"] = [84, \"trumpet\", \"freejazz\"]\n",
    "band"
   ]
  },
  {
   "cell_type": "markdown",
   "metadata": {
    "slideshow": {
     "slide_type": "slide"
    },
    "tags": []
   },
   "source": [
    "### Removing Rows & Columns\n",
    "\n",
    "To remove data from your DataFrame, we can use the `drop()` method."
   ]
  },
  {
   "cell_type": "code",
   "execution_count": null,
   "metadata": {
    "slideshow": {
     "slide_type": "fragment"
    },
    "tags": []
   },
   "outputs": [],
   "source": [
    "# drop \n",
    "band.drop(labels=\"Skill\")           # drop rows\n",
    "band.drop(columns=\"Daniel\")"
   ]
  },
  {
   "cell_type": "markdown",
   "metadata": {
    "slideshow": {
     "slide_type": "fragment"
    },
    "tags": []
   },
   "source": [
    "Notice that **drop by default doesn't change the original DataFrame**. After we've dropped both \"Skill\" row and the \"Daniel\" column, the `band` DataFrame still contains the same data as before. This is useful to use data after processing, instead of the original variable. To really remove those rows/columns, you can either use the `inplace` argument or assign the result to the same variable."
   ]
  },
  {
   "cell_type": "code",
   "execution_count": null,
   "metadata": {
    "slideshow": {
     "slide_type": "fragment"
    },
    "tags": []
   },
   "outputs": [],
   "source": [
    "# drop \n",
    "# band.drop(columns=\"Daniel\", inplace=True)         # using the inplace argument\n",
    "# band = band.drop(columns=\"Daniel\")                # using variable reassignment"
   ]
  },
  {
   "cell_type": "markdown",
   "metadata": {
    "slideshow": {
     "slide_type": "slide"
    },
    "tags": []
   },
   "source": [
    "## Basic Functionality\n",
    "\n",
    "Pandas shares common methods between Series and DataFrames to provide similar basic functionalities:\n",
    "\n",
    "  - A data summary is provided with `.describe()` or `.info()`\n",
    "  - Dimensionality is provided with `.shape`\n",
    "  - The data types can be checked with `.dtype` (Series) or `.dtypes` (DataFrame)\n",
    "  - The axis labels are provided with `.index` or `.columns` (DataFrame only)\n",
    "  - The underlying data can be accessed with `.values`, `.array` and `.to_numpy()`\n",
    "  - Preview the first `.head()` or last elements `.tail()`"
   ]
  },
  {
   "cell_type": "markdown",
   "metadata": {
    "slideshow": {
     "slide_type": "slide"
    },
    "tags": []
   },
   "source": [
    "## Advanced Functionality\n",
    "\n",
    "In addition to the basic functionalities, you can also:\n",
    "  - Switch rows to columns (and reverse) ordering with `df.T`\n",
    "  - `df.mask` to replace values when a condition is true\n",
    "  - `df.where` to replace value when a condition is false\n",
    "  - `df.reset_index()` to reset the index to default\n",
    "  - `df.set_index()` to choose a new column as index\n",
    "  - Drop the missing values with `df.dropna()`\n",
    "  - Subset data on condition with `df[ df.column_name == 'value' ]`\n",
    "  - Subset data on multiple conditions `df[ (df.colA == a_value) & (df.colB == b_value)]`. Notice the parenthesis `()` encapsulating the individual conditions and the ampersand `&` acting as an AND operator (both conditions must be met). Alternatively, you can use the vertical bar `|` as an OR operator (at least one of the conditions must be met).\n",
    "\n",
    "\n",
    "This is not the complete functionality. Pandas has a lot more to offer, which we'll see further down the road."
   ]
  },
  {
   "cell_type": "markdown",
   "metadata": {
    "slideshow": {
     "slide_type": "slide"
    },
    "tags": []
   },
   "source": [
    "## Recap\n",
    "\n",
    "Congratulations, you made it all the way through the first unit of Pandas and DataFrames! This package will By the end of this notebook, you should have a clear idea of:\n",
    "  1. Pandas being more than just fluffy animals;\n",
    "  2. Differences between Series and DataFrames;\n",
    "  3. Selecting data by row/column in a DataFrame;\n",
    "  4. Adding/removing/updating data by row/column in a DataFrame;\n",
    "  5. Basic and Advanced Functionality."
   ]
  }
 ],
 "metadata": {
  "interpreter": {
   "hash": "62450144029c700d9828a520a84c849f57ec997bbb5cd86252d9dcd358a93bcf"
  },
  "kernelspec": {
   "display_name": "Python 3 (ipykernel)",
   "language": "python",
   "name": "python3"
  },
  "language_info": {
   "codemirror_mode": {
    "name": "ipython",
    "version": 3
   },
   "file_extension": ".py",
   "mimetype": "text/x-python",
   "name": "python",
   "nbconvert_exporter": "python",
   "pygments_lexer": "ipython3",
   "version": "3.10.9"
  }
 },
 "nbformat": 4,
 "nbformat_minor": 4
}
